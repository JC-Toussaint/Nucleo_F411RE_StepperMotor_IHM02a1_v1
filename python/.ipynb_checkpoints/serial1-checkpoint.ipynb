{
 "cells": [
  {
   "cell_type": "markdown",
   "metadata": {},
   "source": [
    "# PySerial and STM32"
   ]
  },
  {
   "cell_type": "code",
   "execution_count": null,
   "metadata": {},
   "outputs": [],
   "source": [
    "%matplotlib\n",
    "import numpy as np\n",
    "import serial\n",
    "import serial.tools.list_ports as port_list\n",
    "from skimage import io\n",
    "import matplotlib.pyplot as plt\n",
    "\n",
    "ports = list(port_list.comports())\n",
    "STM32_port=[]\n",
    "for p in ports:\n",
    "    print(p)\n",
    "    port_str=str(p)\n",
    "    if 'STM32' in port_str:\n",
    "        STM32_port=port_str.split()\n",
    "    \n",
    "print(STM32_port[0])    \n",
    "s = serial.Serial(STM32_port[0], baudrate=115200)\n",
    "\n",
    "while True:\n",
    "    line = s.readline()\n",
    "    print(line)\n",
    "    if line[0] != 35: \n",
    "        rgb_str=line.split()\n",
    "        rgb=np.uint8(rgb_str).reshape(1, 1, 3)\n",
    "        plt.imshow(rgb)\n",
    "        plt.draw()\n",
    "        plt.pause(1)\n"
   ]
  }
 ],
 "metadata": {
  "kernelspec": {
   "display_name": "Python 3",
   "language": "python",
   "name": "python3"
  },
  "language_info": {
   "codemirror_mode": {
    "name": "ipython",
    "version": 3
   },
   "file_extension": ".py",
   "mimetype": "text/x-python",
   "name": "python",
   "nbconvert_exporter": "python",
   "pygments_lexer": "ipython3",
   "version": "3.6.4"
  }
 },
 "nbformat": 4,
 "nbformat_minor": 2
}
